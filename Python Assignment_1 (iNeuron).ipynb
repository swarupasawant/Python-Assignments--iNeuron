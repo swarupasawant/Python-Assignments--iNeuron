{
 "cells": [
  {
   "cell_type": "markdown",
   "id": "57f14854",
   "metadata": {},
   "source": [
    "Q1. In the below elements which of them are values or an expression? eg:- values can be integer or string and expressions will be mathematical operators\n",
    "\n",
    "1.*       - Expression\n",
    "\n",
    "2.'hello' - Value\n",
    "\n",
    "3.-87.8   - Value\n",
    "\n",
    "4.-       - Expression\n",
    "\n",
    "5./       - Expression\n",
    "\n",
    "6.+\t    - Expression\n",
    "\n",
    "7.6       - Value\n"
   ]
  },
  {
   "cell_type": "markdown",
   "id": "1e91f3c2",
   "metadata": {},
   "source": [
    "Q2. What is the difference between string and variable?\n",
    "\n",
    "Ans - String: It's a datatype avaliable in python.A string can be define by putting single quotes (‘ ’) or double quotes (“ “) around whatever you want to classify as a string. and variable : It's a reserved memory loction to store values or data. A variable can store a string but string can't store variable.\n",
    "      "
   ]
  },
  {
   "cell_type": "code",
   "execution_count": 50,
   "id": "b5b58073",
   "metadata": {},
   "outputs": [],
   "source": [
    "# Example of string \n",
    "Name = \"Swarupa\""
   ]
  },
  {
   "cell_type": "code",
   "execution_count": 51,
   "id": "0def2ba1",
   "metadata": {},
   "outputs": [
    {
     "data": {
      "text/plain": [
       "'Swarupa'"
      ]
     },
     "execution_count": 51,
     "metadata": {},
     "output_type": "execute_result"
    }
   ],
   "source": [
    "Name"
   ]
  },
  {
   "cell_type": "code",
   "execution_count": 5,
   "id": "4c767ba8",
   "metadata": {},
   "outputs": [],
   "source": [
    "# Example of Variable\n",
    "data = 58.369\n",
    "data_1 = \"Hello\""
   ]
  },
  {
   "cell_type": "code",
   "execution_count": 6,
   "id": "20604a64",
   "metadata": {},
   "outputs": [
    {
     "data": {
      "text/plain": [
       "58.369"
      ]
     },
     "execution_count": 6,
     "metadata": {},
     "output_type": "execute_result"
    }
   ],
   "source": [
    "data"
   ]
  },
  {
   "cell_type": "code",
   "execution_count": 7,
   "id": "95a210c3",
   "metadata": {},
   "outputs": [
    {
     "data": {
      "text/plain": [
       "float"
      ]
     },
     "execution_count": 7,
     "metadata": {},
     "output_type": "execute_result"
    }
   ],
   "source": [
    "type(data)"
   ]
  },
  {
   "cell_type": "code",
   "execution_count": 12,
   "id": "36cfc219",
   "metadata": {},
   "outputs": [
    {
     "data": {
      "text/plain": [
       "str"
      ]
     },
     "execution_count": 12,
     "metadata": {},
     "output_type": "execute_result"
    }
   ],
   "source": [
    "type(data_1)"
   ]
  },
  {
   "cell_type": "markdown",
   "id": "16449bf4",
   "metadata": {},
   "source": [
    "Q3. Describe three different data types.\n",
    "\n",
    "Ans - Mutable data types:- 1.List 2.Set 3.Dictionary \n",
    "    \n",
    "    - Non mutable data types:- 1.Numbers 2.Tuple 3.String"
   ]
  },
  {
   "cell_type": "code",
   "execution_count": 14,
   "id": "54a01c47",
   "metadata": {},
   "outputs": [],
   "source": [
    "# Example List - Lists are used to store multiple items in a single variable.\n",
    "data = [12, \"Hello\", 6.2, 9+5j]"
   ]
  },
  {
   "cell_type": "code",
   "execution_count": 15,
   "id": "0ec44f50",
   "metadata": {},
   "outputs": [
    {
     "data": {
      "text/plain": [
       "[12, 'Hello', 6.2, (9+5j)]"
      ]
     },
     "execution_count": 15,
     "metadata": {},
     "output_type": "execute_result"
    }
   ],
   "source": [
    "data"
   ]
  },
  {
   "cell_type": "code",
   "execution_count": 29,
   "id": "f1b9c537",
   "metadata": {},
   "outputs": [],
   "source": [
    "#example Dictionary - Dictionaries are used to store data values in key:value pairs.\n",
    "\n",
    "dic = {\"Fruits\":[\"Apple\",\"Orange\"],\n",
    "        \"Animals\":[\"Dog\",\"Cat\"]}"
   ]
  },
  {
   "cell_type": "code",
   "execution_count": 30,
   "id": "5f10a70e",
   "metadata": {},
   "outputs": [
    {
     "data": {
      "text/plain": [
       "{'Fruits': ['Apple', 'Orange'], 'Animals': ['Dog', 'Cat']}"
      ]
     },
     "execution_count": 30,
     "metadata": {},
     "output_type": "execute_result"
    }
   ],
   "source": [
    "dic"
   ]
  },
  {
   "cell_type": "code",
   "execution_count": 31,
   "id": "24b7ef04",
   "metadata": {},
   "outputs": [],
   "source": [
    "# example Tuple - Tuples are used to store multiple items in a single variable.\n",
    "\n",
    "Tu = (\"One\", \"Two\", \"Three\")"
   ]
  },
  {
   "cell_type": "code",
   "execution_count": 32,
   "id": "d4a77782",
   "metadata": {},
   "outputs": [
    {
     "data": {
      "text/plain": [
       "('One', 'Two', 'Three')"
      ]
     },
     "execution_count": 32,
     "metadata": {},
     "output_type": "execute_result"
    }
   ],
   "source": [
    "Tu"
   ]
  },
  {
   "cell_type": "markdown",
   "id": "384c1fcc",
   "metadata": {},
   "source": [
    "Q4. What is an expression made up of? What do all expressions do?\n",
    "\n",
    "Ans - Expression is a combination of oprators and oprands which gives single value as output.\n",
    "      Examples - 1. Arithmatic Oprators 2.Logical Oprators 3.Assignment Oprators"
   ]
  },
  {
   "cell_type": "markdown",
   "id": "e2264624",
   "metadata": {},
   "source": [
    "Q5. This assignment statements, like spam = 10. What is the difference between an expression and a statement?\n",
    "\n",
    "Ans - Expression gives single value statement does not."
   ]
  },
  {
   "cell_type": "markdown",
   "id": "be01a540",
   "metadata": {},
   "source": [
    "Q6. After running the following code, what does the variable bacon contain?"
   ]
  },
  {
   "cell_type": "code",
   "execution_count": 33,
   "id": "4becb07e",
   "metadata": {},
   "outputs": [],
   "source": [
    "Bcon=22"
   ]
  },
  {
   "cell_type": "code",
   "execution_count": 34,
   "id": "4963dbd9",
   "metadata": {},
   "outputs": [
    {
     "data": {
      "text/plain": [
       "23"
      ]
     },
     "execution_count": 34,
     "metadata": {},
     "output_type": "execute_result"
    }
   ],
   "source": [
    "Bcon+1"
   ]
  },
  {
   "cell_type": "markdown",
   "id": "e6b20f06",
   "metadata": {},
   "source": [
    "Q7. What should the values of the following two terms be?"
   ]
  },
  {
   "cell_type": "code",
   "execution_count": 35,
   "id": "adcb2fa8",
   "metadata": {},
   "outputs": [
    {
     "data": {
      "text/plain": [
       "'spamspamspam'"
      ]
     },
     "execution_count": 35,
     "metadata": {},
     "output_type": "execute_result"
    }
   ],
   "source": [
    "'spam' + 'spamspam'"
   ]
  },
  {
   "cell_type": "code",
   "execution_count": 36,
   "id": "96f33ef0",
   "metadata": {},
   "outputs": [
    {
     "data": {
      "text/plain": [
       "'spamspamspam'"
      ]
     },
     "execution_count": 36,
     "metadata": {},
     "output_type": "execute_result"
    }
   ],
   "source": [
    "'spam' * 3"
   ]
  },
  {
   "cell_type": "markdown",
   "id": "c125fe20",
   "metadata": {},
   "source": [
    "Q8. Why is eggs a valid variable name while 100 is invalid?\n",
    "\n",
    "Ans -Variable names are permitted to contain letters, numbers, and underscores. A variable cannot start with a number but can start with a letter or an underscore that's why egg's valid variable name and not 100. "
   ]
  },
  {
   "cell_type": "markdown",
   "id": "6b37ac6a",
   "metadata": {},
   "source": [
    "Q9. What three functions can be used to get the integer, floating-point number, or string version of a value?\n",
    "\n",
    "Ans - int(),float()and str() these functions are used to get values."
   ]
  },
  {
   "cell_type": "code",
   "execution_count": 53,
   "id": "aabb7422",
   "metadata": {},
   "outputs": [
    {
     "data": {
      "text/plain": [
       "20"
      ]
     },
     "execution_count": 53,
     "metadata": {},
     "output_type": "execute_result"
    }
   ],
   "source": [
    "int(20)"
   ]
  },
  {
   "cell_type": "code",
   "execution_count": 54,
   "id": "1a592c1c",
   "metadata": {},
   "outputs": [
    {
     "data": {
      "text/plain": [
       "5.0"
      ]
     },
     "execution_count": 54,
     "metadata": {},
     "output_type": "execute_result"
    }
   ],
   "source": [
    "float(5)"
   ]
  },
  {
   "cell_type": "code",
   "execution_count": 56,
   "id": "0fd30031",
   "metadata": {},
   "outputs": [
    {
     "data": {
      "text/plain": [
       "'88'"
      ]
     },
     "execution_count": 56,
     "metadata": {},
     "output_type": "execute_result"
    }
   ],
   "source": [
    "str(88)"
   ]
  },
  {
   "cell_type": "markdown",
   "id": "96a0e2a6",
   "metadata": {},
   "source": [
    "Q10. Why does this expression cause an error? How can you fix it?\n",
    "\n",
    "'I have eaten ' + 99 + ' burritos.'\n",
    "\n",
    "Ans- The above experssion contains string data as well as integer data, here the concatenation take place only for string so we have to convert integer value into string "
   ]
  },
  {
   "cell_type": "code",
   "execution_count": 42,
   "id": "68ad21b2",
   "metadata": {},
   "outputs": [
    {
     "data": {
      "text/plain": [
       "'I have eaten 99 burritos.'"
      ]
     },
     "execution_count": 42,
     "metadata": {},
     "output_type": "execute_result"
    }
   ],
   "source": [
    "# converting int value 99 into string \n",
    "'I have eaten ' + str(\"99\") + ' burritos.'"
   ]
  },
  {
   "cell_type": "code",
   "execution_count": null,
   "id": "06f17cdf",
   "metadata": {},
   "outputs": [],
   "source": []
  }
 ],
 "metadata": {
  "kernelspec": {
   "display_name": "Python 3",
   "language": "python",
   "name": "python3"
  },
  "language_info": {
   "codemirror_mode": {
    "name": "ipython",
    "version": 3
   },
   "file_extension": ".py",
   "mimetype": "text/x-python",
   "name": "python",
   "nbconvert_exporter": "python",
   "pygments_lexer": "ipython3",
   "version": "3.7.3"
  }
 },
 "nbformat": 4,
 "nbformat_minor": 5
}
