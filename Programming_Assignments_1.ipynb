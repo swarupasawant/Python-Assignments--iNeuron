{
 "cells": [
  {
   "cell_type": "markdown",
   "id": "f157cd90",
   "metadata": {},
   "source": [
    "1. Write a Python program to print &quot;Hello Python&quot;?"
   ]
  },
  {
   "cell_type": "code",
   "execution_count": 1,
   "id": "8cd58bd4",
   "metadata": {},
   "outputs": [
    {
     "name": "stdout",
     "output_type": "stream",
     "text": [
      "Hello Python\n"
     ]
    }
   ],
   "source": [
    "print(\"Hello Python\")"
   ]
  },
  {
   "cell_type": "markdown",
   "id": "f82ab87d",
   "metadata": {},
   "source": [
    "2. Write a Python program to do arithmetical operations addition and division.?"
   ]
  },
  {
   "cell_type": "code",
   "execution_count": 3,
   "id": "a9511f89",
   "metadata": {},
   "outputs": [
    {
     "name": "stdout",
     "output_type": "stream",
     "text": [
      "Enter 1st value = 50\n",
      "Enter 2nd value = 50\n",
      "100\n"
     ]
    }
   ],
   "source": [
    "#Addition\n",
    "\n",
    "a = int(input(\"Enter 1st value = \"))\n",
    "b = int(input(\"Enter 2nd value = \"))\n",
    "add = a+b\n",
    "print(add)"
   ]
  },
  {
   "cell_type": "code",
   "execution_count": 5,
   "id": "9f856b82",
   "metadata": {},
   "outputs": [
    {
     "name": "stdout",
     "output_type": "stream",
     "text": [
      "Enter 1st value = 12\n",
      "Enter 2nd value = 6\n",
      "2\n"
     ]
    }
   ],
   "source": [
    "#Division\n",
    "\n",
    "a = int(input(\"Enter 1st value = \"))\n",
    "b = int(input(\"Enter 2nd value = \"))\n",
    "div = a//b\n",
    "print(div)\n"
   ]
  },
  {
   "cell_type": "markdown",
   "id": "f53b13e0",
   "metadata": {},
   "source": [
    "3. Write a Python program to find the area of a triangle?"
   ]
  },
  {
   "cell_type": "code",
   "execution_count": 7,
   "id": "bb83da8a",
   "metadata": {},
   "outputs": [
    {
     "name": "stdout",
     "output_type": "stream",
     "text": [
      "Enter base of triangle = 8\n",
      "Enter height of triangle = 4\n",
      "16.0\n"
     ]
    }
   ],
   "source": [
    "base = int(input(\"Enter base of triangle = \"))\n",
    "height = int(input(\"Enter height of triangle = \"))\n",
    "\n",
    "Area_of_triangle = base*height/2\n",
    "\n",
    "print(Area_of_triangle)"
   ]
  },
  {
   "cell_type": "markdown",
   "id": "e838ac6e",
   "metadata": {},
   "source": [
    "4. Write a Python program to swap two variables?"
   ]
  },
  {
   "cell_type": "code",
   "execution_count": 11,
   "id": "65a4d2eb",
   "metadata": {},
   "outputs": [
    {
     "name": "stdout",
     "output_type": "stream",
     "text": [
      "value of a before swapping = 70\n",
      "value of b before swapping= 60\n",
      "value of a after swapping = 60\n",
      "value of b after swapping= 70\n"
     ]
    }
   ],
   "source": [
    "a = int(input(\"value of a before swapping = \"))\n",
    "b = int(input(\"value of b before swapping= \"))\n",
    "c=a\n",
    "a=b\n",
    "b=c\n",
    "print(\"value of a after swapping =\",a)\n",
    "print(\"value of b after swapping=\", b)"
   ]
  },
  {
   "cell_type": "markdown",
   "id": "ebbb1d5d",
   "metadata": {},
   "source": [
    "5. Write a Python program to generate a random number?"
   ]
  },
  {
   "cell_type": "code",
   "execution_count": 32,
   "id": "1448ba78",
   "metadata": {},
   "outputs": [
    {
     "name": "stdout",
     "output_type": "stream",
     "text": [
      "[1, 10, 15, 0, 10]\n"
     ]
    }
   ],
   "source": [
    "import random\n",
    "a = [random.randint(0,15)for i in range (0,5)]\n",
    "print(a)"
   ]
  },
  {
   "cell_type": "code",
   "execution_count": 21,
   "id": "9f2fb277",
   "metadata": {},
   "outputs": [
    {
     "name": "stdout",
     "output_type": "stream",
     "text": [
      "3\n"
     ]
    }
   ],
   "source": [
    "print(random.randint(0,9))"
   ]
  },
  {
   "cell_type": "code",
   "execution_count": null,
   "id": "11c3f250",
   "metadata": {},
   "outputs": [],
   "source": []
  }
 ],
 "metadata": {
  "kernelspec": {
   "display_name": "Python 3",
   "language": "python",
   "name": "python3"
  },
  "language_info": {
   "codemirror_mode": {
    "name": "ipython",
    "version": 3
   },
   "file_extension": ".py",
   "mimetype": "text/x-python",
   "name": "python",
   "nbconvert_exporter": "python",
   "pygments_lexer": "ipython3",
   "version": "3.7.3"
  }
 },
 "nbformat": 4,
 "nbformat_minor": 5
}
