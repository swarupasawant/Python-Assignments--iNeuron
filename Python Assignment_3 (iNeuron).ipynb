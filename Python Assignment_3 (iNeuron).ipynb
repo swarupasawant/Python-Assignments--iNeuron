{
 "cells": [
  {
   "cell_type": "markdown",
   "id": "dbbdcadb",
   "metadata": {},
   "source": [
    "Q.1. Why are functions advantageous to have in your programs?"
   ]
  },
  {
   "cell_type": "markdown",
   "id": "438c4510",
   "metadata": {},
   "source": [
    "Ans : Functions are important becasue it avoid repetation of same code."
   ]
  },
  {
   "cell_type": "markdown",
   "id": "26e2effb",
   "metadata": {},
   "source": [
    "Q2. When does the code in a function run: when it's specified or when it's called?"
   ]
  },
  {
   "cell_type": "markdown",
   "id": "81fe78d0",
   "metadata": {},
   "source": [
    "Ans: By calling functions Name, the code inside function run.\n",
    "    "
   ]
  },
  {
   "cell_type": "code",
   "execution_count": 2,
   "id": "827e9028",
   "metadata": {},
   "outputs": [],
   "source": [
    "#Example - \n",
    "def test():\n",
    "    print(\"HELLO WORLD\")"
   ]
  },
  {
   "cell_type": "code",
   "execution_count": 3,
   "id": "9d0afc6d",
   "metadata": {},
   "outputs": [
    {
     "name": "stdout",
     "output_type": "stream",
     "text": [
      "HELLO WORLD\n"
     ]
    }
   ],
   "source": [
    "test()"
   ]
  },
  {
   "cell_type": "markdown",
   "id": "03af851d",
   "metadata": {},
   "source": [
    "Q3. What statement creates a function?"
   ]
  },
  {
   "cell_type": "markdown",
   "id": "57f42c16",
   "metadata": {},
   "source": [
    "Ans: \"def\" statement creates function"
   ]
  },
  {
   "cell_type": "markdown",
   "id": "65bf59a8",
   "metadata": {},
   "source": [
    "Q4. What is the difference between a function and a function call?"
   ]
  },
  {
   "cell_type": "markdown",
   "id": "d1519cd3",
   "metadata": {},
   "source": [
    "Ans: A function is a process where we can write a set of code and to use that perticular code we need to call that function, that's known as function call."
   ]
  },
  {
   "cell_type": "markdown",
   "id": "adf65eef",
   "metadata": {},
   "source": [
    "Q5. How many global scopes are there in a Python program? How many local scopes?"
   ]
  },
  {
   "cell_type": "markdown",
   "id": "49dee5ab",
   "metadata": {},
   "source": [
    "Ans: There is only one global scope per program and many local scopes."
   ]
  },
  {
   "cell_type": "code",
   "execution_count": 20,
   "id": "b1067a7f",
   "metadata": {},
   "outputs": [
    {
     "name": "stdout",
     "output_type": "stream",
     "text": [
      "10\n"
     ]
    }
   ],
   "source": [
    "#Example \n",
    "\n",
    "a=int(input())         # a is a global scope\n",
    "\n",
    "def add(c):\n",
    "    b=9                # b,c are local scope    \n",
    "    c=a+b\n",
    "    return(c)\n"
   ]
  },
  {
   "cell_type": "code",
   "execution_count": 22,
   "id": "33be8489",
   "metadata": {},
   "outputs": [
    {
     "data": {
      "text/plain": [
       "19"
      ]
     },
     "execution_count": 22,
     "metadata": {},
     "output_type": "execute_result"
    }
   ],
   "source": [
    "add(c)"
   ]
  },
  {
   "cell_type": "markdown",
   "id": "263ef9f1",
   "metadata": {},
   "source": [
    "Q6. What happens to variables in a local scope when the function call returns?"
   ]
  },
  {
   "cell_type": "markdown",
   "id": "f231457a",
   "metadata": {},
   "source": [
    "Ans:When a function returns, the local scope is destroyed, and all the variables in it are forgotten."
   ]
  },
  {
   "cell_type": "markdown",
   "id": "9b618ad8",
   "metadata": {},
   "source": [
    "Q7.What is the concept of a return value? Is it possible to have a return value in an expression?"
   ]
  },
  {
   "cell_type": "markdown",
   "id": "5492345a",
   "metadata": {},
   "source": [
    "Ans: return in the end of any code returns the value of code and it can be used as expression."
   ]
  },
  {
   "cell_type": "markdown",
   "id": "47d201c1",
   "metadata": {},
   "source": [
    "Q8. If a function does not have a return statement, what is the return value of a call to that function?"
   ]
  },
  {
   "cell_type": "markdown",
   "id": "2a904601",
   "metadata": {},
   "source": [
    "Ans. return value should be None"
   ]
  },
  {
   "cell_type": "markdown",
   "id": "3f9920db",
   "metadata": {},
   "source": [
    "Q9. How do you make a function variable refer to the global variable?\n",
    "\n",
    "Ans. By using \"global\" keyword"
   ]
  },
  {
   "cell_type": "markdown",
   "id": "e39fc978",
   "metadata": {},
   "source": [
    "Q10. What is the data type of None?"
   ]
  },
  {
   "cell_type": "markdown",
   "id": "37e0ed67",
   "metadata": {},
   "source": [
    "Ans. NoneType"
   ]
  },
  {
   "cell_type": "markdown",
   "id": "21496ed2",
   "metadata": {},
   "source": [
    "Q11. What does the sentence import areallyourpetsnamederic do?"
   ]
  },
  {
   "cell_type": "markdown",
   "id": "fc1e16a7",
   "metadata": {},
   "source": [
    "Ans: It will give access to all the functionality inside the module name areallyourpetsnamederic."
   ]
  },
  {
   "cell_type": "markdown",
   "id": "3e9d2461",
   "metadata": {},
   "source": [
    "Q12. If you had a bacon() feature in a spam module, what would you call it after importing spam?"
   ]
  },
  {
   "cell_type": "markdown",
   "id": "ac0146ec",
   "metadata": {},
   "source": [
    "Ans : spam.bacon()"
   ]
  },
  {
   "cell_type": "markdown",
   "id": "00131ad3",
   "metadata": {},
   "source": [
    "Q13. What can you do to save a programme from crashing if it encounters an error?\n",
    "\n",
    "Ans: We can write that code inside try catch block (Exception handling)"
   ]
  },
  {
   "cell_type": "markdown",
   "id": "976ab2d9",
   "metadata": {},
   "source": [
    "Q14. What is the purpose of the try clause? What is the purpose of the except clause?\n",
    "\n",
    "Ans:The try block lets you test a block of code for errors. The except block lets you handle the error. "
   ]
  },
  {
   "cell_type": "code",
   "execution_count": null,
   "id": "4a4c430f",
   "metadata": {},
   "outputs": [],
   "source": []
  }
 ],
 "metadata": {
  "kernelspec": {
   "display_name": "Python 3",
   "language": "python",
   "name": "python3"
  },
  "language_info": {
   "codemirror_mode": {
    "name": "ipython",
    "version": 3
   },
   "file_extension": ".py",
   "mimetype": "text/x-python",
   "name": "python",
   "nbconvert_exporter": "python",
   "pygments_lexer": "ipython3",
   "version": "3.7.3"
  }
 },
 "nbformat": 4,
 "nbformat_minor": 5
}
