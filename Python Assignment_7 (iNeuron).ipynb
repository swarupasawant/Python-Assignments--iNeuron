{
 "cells": [
  {
   "cell_type": "markdown",
   "id": "63f70216",
   "metadata": {},
   "source": [
    "Q1. What is the name of the feature responsible for generating Regex objects?\n",
    "\n",
    "Ans.re.compile() "
   ]
  },
  {
   "cell_type": "markdown",
   "id": "8e2b43f0",
   "metadata": {},
   "source": [
    "Q2.Why do raw strings often appear in Regex objects?\n",
    "\n",
    "Ans.Raw strings are used so that backslashes do not have to be escaped."
   ]
  },
  {
   "cell_type": "markdown",
   "id": "38eb822a",
   "metadata": {},
   "source": [
    "Q3. What is the return value of the search() method?\n",
    "\n",
    "Ans.The search() method returns Match objects."
   ]
  },
  {
   "cell_type": "markdown",
   "id": "db0220ea",
   "metadata": {},
   "source": [
    "Q4.From a Match item, how do you get the actual strings that match the pattern?\n",
    "\n",
    "Ans.By using group() method"
   ]
  },
  {
   "cell_type": "markdown",
   "id": "aeac5f9c",
   "metadata": {},
   "source": [
    "Q5. In the regex which created from the r'(\\d\\d\\d)-(\\d\\d\\d-\\d\\d\\d\\d)', what does group zero cover? Group 2? Group 1?\n",
    "\n",
    "Ans.Group 0 is the entire match, group 1 covers the first set of parentheses, and group 2 covers the second set of parentheses."
   ]
  },
  {
   "cell_type": "markdown",
   "id": "972b4b9f",
   "metadata": {},
   "source": [
    "Q6. In standard expression syntax, parentheses and intervals have distinct meanings. How can you tell a regex that you want it to fit real parentheses and periods?"
   ]
  },
  {
   "cell_type": "markdown",
   "id": "f7976700",
   "metadata": {},
   "source": [
    "Ans.Periods and parentheses can be escaped with a backslash: \\., \\(, and \\)."
   ]
  },
  {
   "cell_type": "markdown",
   "id": "0f70f6c0",
   "metadata": {},
   "source": [
    "Q7. The findall() method returns a string list or a list of string tuples. What causes it to return one of the two options?\n",
    "\n",
    "Ans.If the regex has no groups, a list of strings is returned. If the regex has groups, a list of tuples of strings is returned."
   ]
  },
  {
   "cell_type": "markdown",
   "id": "a420f0e5",
   "metadata": {},
   "source": [
    "Q8. In standard expressions, what does the | character mean?\n",
    "\n",
    "Ans \"either, or\" between two groups."
   ]
  },
  {
   "cell_type": "markdown",
   "id": "31aa8e58",
   "metadata": {},
   "source": [
    "Q9. In regular expressions, what does the character stand for?\n",
    "\n",
    "Ans.A character set is an explicit list of the characters that may qualify for a match in a search."
   ]
  },
  {
   "cell_type": "markdown",
   "id": "bae6b454",
   "metadata": {},
   "source": [
    "Q10.In regular expressions, what is the difference between the + and * characters?\n",
    "\n",
    "Ans.The + matches one or more. The * matches zero or more."
   ]
  },
  {
   "cell_type": "markdown",
   "id": "cb199eb5",
   "metadata": {},
   "source": [
    "Q11. What is the difference between {4} and {4,5} in regular expression?\n",
    "\n",
    "Ans.{4} 4 times and {4,5} -  between 4 and 5 characters, inclusive.\n"
   ]
  },
  {
   "cell_type": "markdown",
   "id": "6ef34684",
   "metadata": {},
   "source": [
    "Q12. What do you mean by the \\d, \\w, and \\s shorthand character classes signify in regular expressions?\n",
    "\n",
    "Ans.\\d, \\D: ANY ONE digit/non-digit character. Digits are [0-9]\n",
    "\n",
    "    \\w, \\W: ANY ONE word/non-word character. For ASCII, word characters are [a-zA-Z0-9_]\n",
    "    \n",
    "    \\s, \\S: ANY ONE space/non-space character. For ASCII, whitespace characters are [ \\n\\r\\t\\f]"
   ]
  },
  {
   "cell_type": "markdown",
   "id": "86ba8349",
   "metadata": {},
   "source": [
    "Q13. What do means by \\D, \\W, and \\S shorthand character classes signify in regular expressions?\n",
    "\n",
    "Ans.\n",
    "     \\d, \\D: ANY ONE digit/non-digit character. Digits are [0-9]\n",
    "\n",
    "     \\w, \\W: ANY ONE word/non-word character. For ASCII, word characters are [a-zA-Z0-9_]\n",
    "\n",
    "     \\s, \\S: ANY ONE space/non-space character. For ASCII, whitespace characters are [ \\n\\r\\t\\f]"
   ]
  },
  {
   "cell_type": "markdown",
   "id": "71597171",
   "metadata": {},
   "source": [
    "Q14. What is the difference between (.*?) and (.*)?\n",
    "\n",
    "Ans.(.*?) matches any character (.) any number of times (*), as few times as possible to make the regex match (?). You'll get a match on any string, but you'll only capture a blank string because of the question mark.\n",
    "\n",
    "and (.*)? captures a group zero or one times (?). That group consists of a run of any length (*) of any character (.). This also will match anything, but it will capture the first line, since the dot matches anything except a newline."
   ]
  },
  {
   "cell_type": "markdown",
   "id": "966ae027",
   "metadata": {},
   "source": [
    "Q15. What is the syntax for matching both numbers and lowercase letters with a character class?\n",
    "\n",
    "Ans.[.-.] (Range Expression): Accept ANY ONE of the character in the range, e.g., [0-9] matches any digit; [A-Za-z] matches any uppercase or lowercase letters."
   ]
  },
  {
   "cell_type": "markdown",
   "id": "ba70f4c8",
   "metadata": {},
   "source": [
    "Q16.What is the procedure for making a normal expression in regax case insensitive?\n",
    "\n",
    "Ans.By Using CASE_INSENSITIVE flag. or by Using modifier."
   ]
  },
  {
   "cell_type": "markdown",
   "id": "8ec0bc2a",
   "metadata": {},
   "source": [
    "Q17. What does the . character normally match? What does it match if re.DOTALL is passed as 2nd argument in re.compile()?\n",
    "\n",
    "Ans.character normally matches any character except the newline character. If re. DOTALL is passed as the second argument to re. compile(), then the dot will also match newline characters."
   ]
  },
  {
   "cell_type": "code",
   "execution_count": null,
   "id": "c90aba6d",
   "metadata": {},
   "outputs": [],
   "source": [
    "Q18.If numReg = re.compile(r'\\d+'), what will numRegex.sub('X', '11 drummers, 10 pipers, five rings, 4 hen') return?"
   ]
  },
  {
   "cell_type": "markdown",
   "id": "67ec6c12",
   "metadata": {},
   "source": [
    "Q19. What does passing re.VERBOSE as the 2nd argument to re.compile() allow to do?\n",
    "\n",
    "Ans-The re. VERBOSE argument allows you to add whitespace and comments to the string passed to re."
   ]
  },
  {
   "cell_type": "code",
   "execution_count": null,
   "id": "d767874e",
   "metadata": {},
   "outputs": [],
   "source": [
    "Q20. How would you write a regex that match a number with comma for every three digits? It must match the given following:\n",
    "'42'\n",
    "'1,234'\n",
    "'6,368,745'\n",
    "but not the following:\n",
    "'12,34,567' (which has only two digits between the commas)\n",
    "'1234' (which lacks commas)\n"
   ]
  },
  {
   "cell_type": "markdown",
   "id": "0148ec6a",
   "metadata": {},
   "source": [
    "Q22. How would you write a regex that matches a sentence where the first word is either Alice, Bob, or Carol; the second word is either eats, pets, or throws; the third word is apples, cats, or baseballs; and the sentence ends with a period? This regex should be case-insensitive. It must match the following:\n",
    "    \n",
    "ANS -regex=re.compile(r'(Alice|Bob|Carol)\\s+(eats|pets|throws)\\s+(apples|cats|baseballs)\\.', re.IGNORECASE)"
   ]
  },
  {
   "cell_type": "code",
   "execution_count": null,
   "id": "5b8968c6",
   "metadata": {},
   "outputs": [],
   "source": [
    "\\s*[[\\w\\s]+]*\\s*[[\\w\\s]+]*\\s*[[\\w\\s]+]*\\s*"
   ]
  }
 ],
 "metadata": {
  "kernelspec": {
   "display_name": "Python 3",
   "language": "python",
   "name": "python3"
  },
  "language_info": {
   "codemirror_mode": {
    "name": "ipython",
    "version": 3
   },
   "file_extension": ".py",
   "mimetype": "text/x-python",
   "name": "python",
   "nbconvert_exporter": "python",
   "pygments_lexer": "ipython3",
   "version": "3.7.3"
  }
 },
 "nbformat": 4,
 "nbformat_minor": 5
}
