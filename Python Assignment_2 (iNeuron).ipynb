{
 "cells": [
  {
   "cell_type": "markdown",
   "id": "dfd1556e",
   "metadata": {},
   "source": [
    "Q1.What are the two values of the Boolean data type? How do you write them?\n",
    "\n",
    "\n",
    "Ans - the two values of the Boolean data types are TRUE and FALSE"
   ]
  },
  {
   "cell_type": "markdown",
   "id": "6d99db24",
   "metadata": {},
   "source": [
    "Q2. What are the three different types of Boolean operators?\n",
    "\n",
    "Ans - AND, OR, NOT"
   ]
  },
  {
   "cell_type": "markdown",
   "id": "cbc3fc35",
   "metadata": {},
   "source": [
    "Q3. Make a list of each Boolean operator's truth tables (i.e. every possible combination of Boolean values for the operator and what it evaluate ).\n",
    "\n",
    "Ans -       True and True is True.\n",
    "\n",
    "            True and False is False.\n",
    "\n",
    "            False and True is False.\n",
    "\n",
    "            False and False is False.\n",
    "\n",
    "            True or True is True.\n",
    "\n",
    "            True or False is True.\n",
    "\n",
    "            False or True is True.\n",
    "\n",
    "            False or False is False.\n",
    "\n",
    "            not True is False.\n",
    "\n",
    "            not False is True."
   ]
  },
  {
   "cell_type": "markdown",
   "id": "533db019",
   "metadata": {},
   "source": [
    "Q4. What are the values of the following expressions?"
   ]
  },
  {
   "cell_type": "code",
   "execution_count": 4,
   "id": "81fc60ef",
   "metadata": {},
   "outputs": [
    {
     "data": {
      "text/plain": [
       "False"
      ]
     },
     "execution_count": 4,
     "metadata": {},
     "output_type": "execute_result"
    }
   ],
   "source": [
    "(5 > 4) and (3 == 5)\n",
    "not (5 > 4)"
   ]
  },
  {
   "cell_type": "code",
   "execution_count": 3,
   "id": "0bbaf243",
   "metadata": {},
   "outputs": [
    {
     "data": {
      "text/plain": [
       "False"
      ]
     },
     "execution_count": 3,
     "metadata": {},
     "output_type": "execute_result"
    }
   ],
   "source": [
    "(5 > 4) or (3 == 5)\n",
    "not ((5 > 4) or (3 == 5))"
   ]
  },
  {
   "cell_type": "code",
   "execution_count": 5,
   "id": "73c71ca3",
   "metadata": {},
   "outputs": [
    {
     "data": {
      "text/plain": [
       "False"
      ]
     },
     "execution_count": 5,
     "metadata": {},
     "output_type": "execute_result"
    }
   ],
   "source": [
    "(True and True) and (True == False)"
   ]
  },
  {
   "cell_type": "code",
   "execution_count": 6,
   "id": "c7fd3496",
   "metadata": {},
   "outputs": [
    {
     "data": {
      "text/plain": [
       "True"
      ]
     },
     "execution_count": 6,
     "metadata": {},
     "output_type": "execute_result"
    }
   ],
   "source": [
    "(not False) or (not True)"
   ]
  },
  {
   "cell_type": "markdown",
   "id": "8c1a9492",
   "metadata": {},
   "source": [
    "Q5. What are the six comparison operators?\n",
    "\n",
    "\n",
    "Ans-\n",
    "        ==\tEqual to\n",
    "\n",
    "        !=\tNot equal to\n",
    "    \n",
    "        <\tLess than\n",
    "        \n",
    "        >\tGreater than\n",
    "        \n",
    "        <=\tLess than or equal to\n",
    "        \n",
    "        >=\tGreater than or equal to"
   ]
  },
  {
   "cell_type": "markdown",
   "id": "b978ce7a",
   "metadata": {},
   "source": [
    "Q6. How do you tell the difference between the equal to and assignment operators?Describe a condition and when you would use one."
   ]
  },
  {
   "cell_type": "code",
   "execution_count": 9,
   "id": "e53ea144",
   "metadata": {},
   "outputs": [],
   "source": [
    " #here value 5 is assign or store into the a using single \"=\"\n",
    "a=5"
   ]
  },
  {
   "cell_type": "code",
   "execution_count": 10,
   "id": "b0322d54",
   "metadata": {},
   "outputs": [
    {
     "data": {
      "text/plain": [
       "5"
      ]
     },
     "execution_count": 10,
     "metadata": {},
     "output_type": "execute_result"
    }
   ],
   "source": [
    "a"
   ]
  },
  {
   "cell_type": "code",
   "execution_count": 8,
   "id": "63072fe9",
   "metadata": {},
   "outputs": [
    {
     "data": {
      "text/plain": [
       "True"
      ]
     },
     "execution_count": 8,
     "metadata": {},
     "output_type": "execute_result"
    }
   ],
   "source": [
    "#here we can check the value of a is equal to 5 or not by using \"==\"\n",
    "a==5"
   ]
  },
  {
   "cell_type": "code",
   "execution_count": 11,
   "id": "0e60b101",
   "metadata": {},
   "outputs": [
    {
     "data": {
      "text/plain": [
       "False"
      ]
     },
     "execution_count": 11,
     "metadata": {},
     "output_type": "execute_result"
    }
   ],
   "source": [
    "a==9"
   ]
  },
  {
   "cell_type": "markdown",
   "id": "ae3ed979",
   "metadata": {},
   "source": [
    "Q7. Identify the three blocks in this code:\n",
    "Ans - three blocks are two if condition and one else condition"
   ]
  },
  {
   "cell_type": "code",
   "execution_count": 29,
   "id": "7f5c29e7",
   "metadata": {},
   "outputs": [
    {
     "name": "stdout",
     "output_type": "stream",
     "text": [
      "ham\n",
      "spam\n",
      "spam\n"
     ]
    }
   ],
   "source": [
    "spam = 5\n",
    "if spam == 10:\n",
    "    print('eggs')\n",
    "if spam > 5:\n",
    "    print('bacon')\n",
    "else:\n",
    "    print('ham')\n",
    "    print('spam')\n",
    "    print('spam')\n"
   ]
  },
  {
   "cell_type": "markdown",
   "id": "5067ad33",
   "metadata": {},
   "source": [
    "Q8. Write code that prints Hello if 1 is stored in spam, prints Howdy if 2 is stored in spam, and prints Greetings! if anything else is stored in spam."
   ]
  },
  {
   "cell_type": "code",
   "execution_count": 16,
   "id": "a8184fc7",
   "metadata": {},
   "outputs": [
    {
     "name": "stdout",
     "output_type": "stream",
     "text": [
      "Enter intger : 7\n",
      "Greetings!\n"
     ]
    }
   ],
   "source": [
    "spam = int(input('Enter intger : '))\n",
    "if spam ==1:\n",
    "    print(\"Hello\")\n",
    "elif spam ==2:\n",
    "    print(\"Howdy\")\n",
    "else:\n",
    "    print(\"Greetings!\")"
   ]
  },
  {
   "cell_type": "markdown",
   "id": "f729dab9",
   "metadata": {},
   "source": [
    "Q9.If your programme is stuck in an endless loop, what keys you’ll press?\n",
    "\n",
    "\n",
    "Ans-press CTRL + C "
   ]
  },
  {
   "cell_type": "markdown",
   "id": "cd2e6262",
   "metadata": {},
   "source": [
    "10. How can you tell the difference between break and continue?\n",
    "\n",
    "\n",
    "Ans - break statement used to stop or terminate the loop immediately.\n",
    "      and continue statement does not terminate loop but continues on with the next iteartion"
   ]
  },
  {
   "cell_type": "code",
   "execution_count": 18,
   "id": "647ec87b",
   "metadata": {},
   "outputs": [
    {
     "name": "stdout",
     "output_type": "stream",
     "text": [
      "P\n",
      "y\n",
      "t\n"
     ]
    }
   ],
   "source": [
    "x=\"Python\"\n",
    "for i in x:\n",
    "    if i == \"h\":\n",
    "        break\n",
    "    print(i)"
   ]
  },
  {
   "cell_type": "code",
   "execution_count": 19,
   "id": "710a6914",
   "metadata": {},
   "outputs": [
    {
     "name": "stdout",
     "output_type": "stream",
     "text": [
      "P\n",
      "y\n",
      "t\n",
      "o\n",
      "n\n"
     ]
    }
   ],
   "source": [
    "x=\"Python\"\n",
    "for i in x:\n",
    "    if i == \"h\":\n",
    "        continue\n",
    "    print(i)"
   ]
  },
  {
   "cell_type": "markdown",
   "id": "6ae01513",
   "metadata": {},
   "source": [
    "Q11. In a for loop, what is the difference between range(10), range(0, 10), and range(0, 10, 1)?\n",
    "\n",
    "\n",
    "Ans- There is no difference between range(10), range(0, 10), and range(0, 10, 1) it will give number range from 0 to 9 as output data"
   ]
  },
  {
   "cell_type": "code",
   "execution_count": 21,
   "id": "1e88c5dc",
   "metadata": {},
   "outputs": [
    {
     "name": "stdout",
     "output_type": "stream",
     "text": [
      "0\n",
      "1\n",
      "2\n",
      "3\n",
      "4\n",
      "5\n",
      "6\n",
      "7\n",
      "8\n",
      "9\n"
     ]
    }
   ],
   "source": [
    "for i in range(10):\n",
    "    print(i)"
   ]
  },
  {
   "cell_type": "code",
   "execution_count": 22,
   "id": "3ccf7804",
   "metadata": {},
   "outputs": [
    {
     "name": "stdout",
     "output_type": "stream",
     "text": [
      "0\n",
      "1\n",
      "2\n",
      "3\n",
      "4\n",
      "5\n",
      "6\n",
      "7\n",
      "8\n",
      "9\n"
     ]
    }
   ],
   "source": [
    "for i in range(0,10):\n",
    "    print(i)"
   ]
  },
  {
   "cell_type": "code",
   "execution_count": 23,
   "id": "b634c7c9",
   "metadata": {},
   "outputs": [
    {
     "name": "stdout",
     "output_type": "stream",
     "text": [
      "0\n",
      "1\n",
      "2\n",
      "3\n",
      "4\n",
      "5\n",
      "6\n",
      "7\n",
      "8\n",
      "9\n"
     ]
    }
   ],
   "source": [
    "for i in range(0,10,1):\n",
    "    print(i)"
   ]
  },
  {
   "cell_type": "markdown",
   "id": "4f19c35f",
   "metadata": {},
   "source": [
    "Q12. Write a short program that prints the numbers 1 to 10 using a for loop. Then write an equivalent program that prints the numbers 1 to 10 using a while loop."
   ]
  },
  {
   "cell_type": "code",
   "execution_count": 24,
   "id": "4be12de0",
   "metadata": {},
   "outputs": [
    {
     "name": "stdout",
     "output_type": "stream",
     "text": [
      "1\n",
      "2\n",
      "3\n",
      "4\n",
      "5\n",
      "6\n",
      "7\n",
      "8\n",
      "9\n",
      "10\n"
     ]
    }
   ],
   "source": [
    "for i in range(1,11):\n",
    "    print(i)"
   ]
  },
  {
   "cell_type": "code",
   "execution_count": 26,
   "id": "5e375b60",
   "metadata": {},
   "outputs": [
    {
     "name": "stdout",
     "output_type": "stream",
     "text": [
      "1\n",
      "2\n",
      "3\n",
      "4\n",
      "5\n",
      "6\n",
      "7\n",
      "8\n",
      "9\n",
      "10\n"
     ]
    }
   ],
   "source": [
    "a = 1\n",
    "while a<11:\n",
    "    print(a)\n",
    "    a+=1"
   ]
  },
  {
   "cell_type": "markdown",
   "id": "e23cd1ca",
   "metadata": {},
   "source": [
    "Q13. If you had a function named bacon() inside a module named spam, how would you call it after importing spam?"
   ]
  },
  {
   "cell_type": "markdown",
   "id": "9c07c78c",
   "metadata": {},
   "source": [
    "from spam import bacon \n",
    "\n",
    "or \n",
    "\n",
    "\n",
    "from spam import *\n",
    "\n",
    "bacon()"
   ]
  },
  {
   "cell_type": "code",
   "execution_count": null,
   "id": "20c6da8d",
   "metadata": {},
   "outputs": [],
   "source": []
  }
 ],
 "metadata": {
  "kernelspec": {
   "display_name": "Python 3",
   "language": "python",
   "name": "python3"
  },
  "language_info": {
   "codemirror_mode": {
    "name": "ipython",
    "version": 3
   },
   "file_extension": ".py",
   "mimetype": "text/x-python",
   "name": "python",
   "nbconvert_exporter": "python",
   "pygments_lexer": "ipython3",
   "version": "3.7.3"
  }
 },
 "nbformat": 4,
 "nbformat_minor": 5
}
