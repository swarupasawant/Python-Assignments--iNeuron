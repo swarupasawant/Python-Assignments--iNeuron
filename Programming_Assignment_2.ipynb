{
 "cells": [
  {
   "cell_type": "markdown",
   "id": "5b8197fc",
   "metadata": {},
   "source": [
    "1. Write a Python program to convert kilometers to miles?"
   ]
  },
  {
   "cell_type": "code",
   "execution_count": 4,
   "id": "8bcf46d8",
   "metadata": {},
   "outputs": [
    {
     "name": "stdout",
     "output_type": "stream",
     "text": [
      "Enter value of kilometer =1\n",
      "kilometer into miles 0.62137\n"
     ]
    }
   ],
   "source": [
    "x = int(input(\"Enter value of kilometer =\"))\n",
    "\n",
    "mili= x*0.62137\n",
    "\n",
    "print(\"kilometer into miles\",mili)"
   ]
  },
  {
   "cell_type": "markdown",
   "id": "096e7f3d",
   "metadata": {},
   "source": [
    "2.Write a Python program to convert Celsius to Fahrenheit?"
   ]
  },
  {
   "cell_type": "code",
   "execution_count": 12,
   "id": "50f61e8a",
   "metadata": {},
   "outputs": [
    {
     "name": "stdout",
     "output_type": "stream",
     "text": [
      "Enter value of Celsius =4\n",
      "Celsius to Fahrenheit= 39.2\n"
     ]
    }
   ],
   "source": [
    "#(0°C × 9/5) + 32 = 32°F\n",
    "Cel = float(input(\"Enter value of Celsius =\"))\n",
    "\n",
    "Fa = (Cel*9/5)+32\n",
    "\n",
    "print(\"Celsius to Fahrenheit=\",Fa)"
   ]
  },
  {
   "cell_type": "markdown",
   "id": "c8ee4409",
   "metadata": {},
   "source": [
    "3. Write a Python program to display calendar?"
   ]
  },
  {
   "cell_type": "code",
   "execution_count": 21,
   "id": "f0541b8c",
   "metadata": {},
   "outputs": [
    {
     "name": "stdout",
     "output_type": "stream",
     "text": [
      "Enter year = 2022\n",
      "Enter month=5\n",
      "      May 2022\n",
      "Mo Tu We Th Fr Sa Su\n",
      "                   1\n",
      " 2  3  4  5  6  7  8\n",
      " 9 10 11 12 13 14 15\n",
      "16 17 18 19 20 21 22\n",
      "23 24 25 26 27 28 29\n",
      "30 31\n",
      "\n"
     ]
    }
   ],
   "source": [
    "import calendar\n",
    "\n",
    "year=int(input(\"Enter year = \"))\n",
    "month=int(input(\"Enter month=\"))\n",
    "\n",
    "cal= calendar.month(year,month)\n",
    "\n",
    "print(cal)"
   ]
  },
  {
   "cell_type": "markdown",
   "id": "232e1413",
   "metadata": {},
   "source": [
    "4. Write a Python program to solve quadratic equation?"
   ]
  },
  {
   "cell_type": "code",
   "execution_count": 5,
   "id": "191045d9",
   "metadata": {},
   "outputs": [
    {
     "name": "stdout",
     "output_type": "stream",
     "text": [
      "Enter 1st value = 7\n",
      "Enter 2nd value = 6\n",
      "Enter 3rd value = 3\n",
      "(-0.42857142857142855-0.4948716593053935j)\n",
      "(-0.42857142857142855+0.4948716593053935j)\n"
     ]
    }
   ],
   "source": [
    "import cmath\n",
    "\n",
    "a= int(input(\"Enter 1st value = \"))\n",
    "b= int(input(\"Enter 2nd value = \"))\n",
    "c= int(input(\"Enter 3rd value = \"))\n",
    "\n",
    "formula = (b**2) -(4*a*c)\n",
    "\n",
    "sol1= (-b-cmath.sqrt(formula))/(2 * a)\n",
    "sol2= (-b+cmath.sqrt(formula))/(2 * a)\n",
    "\n",
    "print(sol1)\n",
    "print(sol2)"
   ]
  },
  {
   "cell_type": "markdown",
   "id": "4d82cd03",
   "metadata": {},
   "source": [
    "5. Write a Python program to swap two variables without temp variable?"
   ]
  },
  {
   "cell_type": "code",
   "execution_count": 6,
   "id": "3bac5396",
   "metadata": {},
   "outputs": [
    {
     "name": "stdout",
     "output_type": "stream",
     "text": [
      "Value before swaping p= 10\n",
      "Value before swaping q= 20\n",
      "Value after swaping p =  20\n",
      "Value after swaping q =  10\n"
     ]
    }
   ],
   "source": [
    "p= int(input(\"Value before swaping p= \"))\n",
    "q= int(input(\"Value before swaping q= \"))\n",
    "\n",
    "p,q=q,p\n",
    "print(\"Value after swaping p = \",p)\n",
    "print(\"Value after swaping q = \",q)"
   ]
  },
  {
   "cell_type": "code",
   "execution_count": null,
   "id": "724b08a4",
   "metadata": {},
   "outputs": [],
   "source": []
  }
 ],
 "metadata": {
  "kernelspec": {
   "display_name": "Python 3",
   "language": "python",
   "name": "python3"
  },
  "language_info": {
   "codemirror_mode": {
    "name": "ipython",
    "version": 3
   },
   "file_extension": ".py",
   "mimetype": "text/x-python",
   "name": "python",
   "nbconvert_exporter": "python",
   "pygments_lexer": "ipython3",
   "version": "3.7.3"
  }
 },
 "nbformat": 4,
 "nbformat_minor": 5
}
